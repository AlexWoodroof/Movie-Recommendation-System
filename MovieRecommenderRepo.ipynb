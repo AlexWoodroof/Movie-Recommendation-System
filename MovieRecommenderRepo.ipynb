{
 "cells": [
  {
   "cell_type": "markdown",
   "metadata": {},
   "source": [
    "Preprocessing and visualization"
   ]
  },
  {
   "cell_type": "code",
   "execution_count": null,
   "metadata": {},
   "outputs": [],
   "source": [
    "# Load the datasets\n",
    "\n",
    "import pandas as pd \n",
    "import numpy as np \n",
    "df1=pd.read_csv('../Datasets/TMDB5000/tmdb_5000_credits.csv')\n",
    "df2=pd.read_csv('../Datasets/TMDB5000/tmdb_5000_movies.csv')"
   ]
  },
  {
   "cell_type": "code",
   "execution_count": null,
   "metadata": {},
   "outputs": [],
   "source": [
    "# This column merges the movie data using the id column as the key...We're going to call this movie_data then we are going to show 5 random results.\n",
    "\n",
    "df1.columns = ['id','tittle','cast','crew']\n",
    "movie_data = df2.merge(df1, on='id')\n",
    "\n",
    "# random_results = movie_data.sample(n=5)\n",
    "# print(random_results)\n",
    "movie_data.head(3) # Head presents it a little bit more nicely than using random samples...\n",
    "\n",
    "# So now the movie datasets have been combined..."
   ]
  },
  {
   "cell_type": "code",
   "execution_count": null,
   "metadata": {},
   "outputs": [],
   "source": [
    "# Weighted Rating...Takes the avg vote and the vote count and calculates a combined score.\n",
    "\n",
    "def weighted_rating(x, m=m, C=C):\n",
    "    v = x['vote_count']\n",
    "    R = x['vote_average']\n",
    "    # Calculation based on the IMDB formula\n",
    "    return (v/(v+m) * R) + (m/(m+v) * C)\n",
    "\n",
    "# Define a new feature 'score' and calculate its value with `weighted_rating()`\n",
    "q_movies['score'] = q_movies.apply(weighted_rating, axis=1)\n",
    "\n",
    "#Sort movies based on score calculated above\n",
    "q_movies = q_movies.sort_values('score', ascending=False)\n",
    "\n",
    "#Print the top 15 movies\n",
    "q_movies[['title', 'vote_count', 'vote_average', 'score']].head(10)"
   ]
  }
 ],
 "metadata": {
  "language_info": {
   "name": "python"
  }
 },
 "nbformat": 4,
 "nbformat_minor": 2
}
